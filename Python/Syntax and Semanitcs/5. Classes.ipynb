{
 "cells": [
  {
   "cell_type": "markdown",
   "metadata": {},
   "source": [
    "# Classes"
   ]
  },
  {
   "cell_type": "code",
   "execution_count": 1,
   "metadata": {},
   "outputs": [],
   "source": [
    "# The simplest class\n",
    "class A(object): pass"
   ]
  },
  {
   "cell_type": "code",
   "execution_count": 8,
   "metadata": {},
   "outputs": [
    {
     "name": "stdout",
     "output_type": "stream",
     "text": [
      "smcho: Hello\n",
      "20\n"
     ]
    }
   ],
   "source": [
    "# We subclass from object to get a class.\n",
    "class Human(object):\n",
    "    # A class attribute. It is shared by all instances of this class\n",
    "    species = \"H. sapiens\"\n",
    "\n",
    "    # Basic initializer, this is called when this class is instantiated.\n",
    "    # Note that the double leading and trailing underscores denote objects\n",
    "    # or attributes that are used by python but that live in user-controlled\n",
    "    # namespaces. You should not invent such names on your own.\n",
    "    def __init__(self, name):\n",
    "        # Assign the argument to the instance's name attribute\n",
    "        self.name = name\n",
    "\n",
    "        # Initialize property\n",
    "        self.age = 0\n",
    "\n",
    "    # An instance method. All methods take \"self\" as the first argument\n",
    "    def say(self, msg):\n",
    "        return \"{0}: {1}\".format(self.name, msg)\n",
    "\n",
    "h = Human(\"smcho\")\n",
    "print(h.say(\"Hello\"))\n",
    "h.age = 20 \n",
    "print(h.age)"
   ]
  },
  {
   "cell_type": "code",
   "execution_count": 7,
   "metadata": {},
   "outputs": [
    {
     "name": "stdout",
     "output_type": "stream",
     "text": [
      "*grunt*\n",
      "me: A\n",
      "you: B\n",
      "H. sapiens\n",
      "H. sapiens\n"
     ]
    }
   ],
   "source": [
    "# class method & static method\n",
    "class Human(object):\n",
    "    species = \"H. sapiens\"\n",
    "    def __init__(self, name):\n",
    "        self.name = name; self.age = 0\n",
    "    def say(self, msg):\n",
    "        return \"{0}: {1}\".format(self.name, msg)\n",
    "\n",
    "    # A class method is shared among all instances\n",
    "    # They are called with the calling class as the first argument\n",
    "    @classmethod\n",
    "    def get_species(cls):\n",
    "        return cls.species\n",
    "\n",
    "    # A static method is called without a class or instance reference\n",
    "    @staticmethod\n",
    "    def grunt():\n",
    "        return \"*grunt*\"\n",
    "\n",
    "# You don't need an instantiation for static method\n",
    "print(Human.grunt())\n",
    "# class method is shared by all instances\n",
    "h1 = Human(\"me\")\n",
    "h2 = Human(\"you\")\n",
    "print(h1.say(\"A\")); print(h2.say(\"B\"))\n",
    "print(h1.get_species()); print(h2.get_species())"
   ]
  },
  {
   "cell_type": "code",
   "execution_count": 11,
   "metadata": {},
   "outputs": [
    {
     "name": "stdout",
     "output_type": "stream",
     "text": [
      "100\n"
     ]
    }
   ],
   "source": [
    "# utilities for classes - setter\n",
    "class Human(object):\n",
    "    species = \"H. sapiens\"\n",
    "    def __init__(self, name):\n",
    "        self.name = name; self.age = 0\n",
    "    def say(self, msg):\n",
    "        return \"{0}: {1}\".format(self.name, msg)\n",
    "    @classmethod\n",
    "    def get_species(cls): return cls.species\n",
    "    @staticmethod\n",
    "    def grunt(): return \"*grunt*\"\n",
    "\n",
    "    # A property is just like a getter.\n",
    "    # It turns the method age() into an read-only attribute\n",
    "    # of the same name.\n",
    "    @property\n",
    "    def age(self):\n",
    "        return self._age\n",
    "\n",
    "    # This allows the property to be set\n",
    "    @age.setter\n",
    "    def age(self, age):\n",
    "        self._age = age * 10 # <-----\n",
    "\n",
    "    # This allows the property to be deleted\n",
    "    @age.deleter\n",
    "    def age(self):\n",
    "        del self._age\n",
    "\n",
    "h1 = Human(\"h\")\n",
    "h1.age = 10\n",
    "print(h1.age) # setter makes it 10 times"
   ]
  },
  {
   "cell_type": "code",
   "execution_count": 22,
   "metadata": {},
   "outputs": [
    {
     "name": "stdout",
     "output_type": "stream",
     "text": [
      "100\n",
      "10.0\n",
      "100\n"
     ]
    }
   ],
   "source": [
    "# utilities for classes - setter\n",
    "class Human(object):\n",
    "    species = \"H. sapiens\"\n",
    "    def __init__(self, name):\n",
    "        self.name = name; # self.age = 0 <- delete this as _age will replace the value\n",
    "    def say(self, msg):\n",
    "        return \"{0}: {1}\".format(self.name, msg)\n",
    "    @classmethod\n",
    "    def get_species(cls): return cls.species\n",
    "    @staticmethod\n",
    "    def grunt(): return \"*grunt*\"\n",
    "\n",
    "    # property and setter \n",
    "    # property & setter are methods, but they behave as if they are a value\n",
    "    @property\n",
    "    def age(self):\n",
    "        return self._age / 10 # <----\n",
    "    \n",
    "    # This allows the property to be set\n",
    "    @age.setter\n",
    "    def age(self, age):\n",
    "        self._age = age * 10 # <-----\n",
    "\n",
    "h1 = Human(\"h\")\n",
    "h1.age = 10  # setter makes it 10 times\n",
    "print(h1._age)\n",
    "print(h1.age) # property makes it 1/10 \n",
    "print(h1._age)"
   ]
  },
  {
   "cell_type": "code",
   "execution_count": 41,
   "metadata": {},
   "outputs": [
    {
     "name": "stdout",
     "output_type": "stream",
     "text": [
      "10.0\n",
      "Error\n"
     ]
    }
   ],
   "source": [
    "# utilities for classes - deleter\n",
    "class Human(object):\n",
    "    species = \"H. sapiens\"\n",
    "    def __init__(self, name):\n",
    "        self.name = name; # self.age = 0 <- delete this as _age will replace the value\n",
    "    def say(self, msg):\n",
    "        return \"{0}: {1}\".format(self.name, msg)\n",
    "    @classmethod \n",
    "    def get_species(cls): return cls.species\n",
    "    @staticmethod\n",
    "    def grunt(): return \"*grunt*\"\n",
    "    @property\n",
    "    def age(self): return self._age / 10 # <----\n",
    "    @age.setter\n",
    "    def age(self, age): self._age = age * 10 # <-----\n",
    "\n",
    "    # This allows the property to be deleted\n",
    "    @age.deleter\n",
    "    def age(self):\n",
    "        del self._age\n",
    "        \n",
    "h1 = Human(\"h\")\n",
    "h1.age = 10  # setter makes it 10 times\n",
    "print(h1.age)\n",
    "del h1.age\n",
    "try:\n",
    "    h1.age\n",
    "except:\n",
    "    print(\"Error\")"
   ]
  },
  {
   "cell_type": "markdown",
   "metadata": {},
   "source": [
    "# Inheritance"
   ]
  },
  {
   "cell_type": "code",
   "execution_count": 1,
   "metadata": {},
   "outputs": [
    {
     "name": "stdout",
     "output_type": "stream",
     "text": [
      "10\n",
      "20\n"
     ]
    }
   ],
   "source": [
    "# inheritance\n",
    "class A(object):\n",
    "    def __init__(self, value): self.value = value\n",
    "    def getValue(self): return self.value\n",
    "class B(A):\n",
    "    pass\n",
    "\n",
    "a = A(10)\n",
    "b = B(20)\n",
    "print(a.getValue())\n",
    "print(b.getValue())\n"
   ]
  },
  {
   "cell_type": "code",
   "execution_count": 38,
   "metadata": {},
   "outputs": [
    {
     "name": "stdout",
     "output_type": "stream",
     "text": [
      "<class '__main__.A'>\n",
      "<class '__main__.B'>\n",
      "True\n",
      "True\n"
     ]
    }
   ],
   "source": [
    "print(type(a))\n",
    "print(type(b))\n",
    "print(isinstance(a, A))\n",
    "print(isinstance(b, B))"
   ]
  },
  {
   "cell_type": "code",
   "execution_count": 39,
   "metadata": {},
   "outputs": [
    {
     "name": "stdout",
     "output_type": "stream",
     "text": [
      "True\n",
      "True\n",
      "True\n",
      "False\n"
     ]
    }
   ],
   "source": [
    "print(isinstance(b, A))\n",
    "print(isinstance(b, B))\n",
    "print(isinstance(a, A))\n",
    "print(isinstance(a, B)) # a instance does not know descendants"
   ]
  },
  {
   "cell_type": "code",
   "execution_count": 48,
   "metadata": {},
   "outputs": [
    {
     "name": "stdout",
     "output_type": "stream",
     "text": [
      "120\n",
      "10\n"
     ]
    }
   ],
   "source": [
    "# inheritance & super\n",
    "class A(object):\n",
    "    def __init__(self, value): self.value = value\n",
    "    def getValue(self): return self.value\n",
    "class B(A):\n",
    "    def __init__(self, value):\n",
    "        super().__init__(value * 10)\n",
    "    def getValue(self):\n",
    "        return (super().getValue() + 20)\n",
    "\n",
    "b = B(10)\n",
    "print(b.getValue())\n",
    "a = A(10)\n",
    "print(a.getValue())"
   ]
  },
  {
   "cell_type": "code",
   "execution_count": null,
   "metadata": {},
   "outputs": [],
   "source": []
  }
 ],
 "metadata": {
  "kernelspec": {
   "display_name": "Python 3",
   "language": "python",
   "name": "python3"
  },
  "language_info": {
   "codemirror_mode": {
    "name": "ipython",
    "version": 3
   },
   "file_extension": ".py",
   "mimetype": "text/x-python",
   "name": "python",
   "nbconvert_exporter": "python",
   "pygments_lexer": "ipython3",
   "version": "3.7.0"
  }
 },
 "nbformat": 4,
 "nbformat_minor": 2
}
