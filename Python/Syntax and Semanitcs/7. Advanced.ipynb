{
 "cells": [
  {
   "cell_type": "markdown",
   "metadata": {},
   "source": [
    "# Advanced Topics"
   ]
  },
  {
   "cell_type": "code",
   "execution_count": 1,
   "metadata": {},
   "outputs": [
    {
     "name": "stdout",
     "output_type": "stream",
     "text": [
      "0 2 4 6 \n"
     ]
    }
   ],
   "source": [
    "# Generators Why?\n",
    "# A generator \"generates\" values as they are requested instead of storing\n",
    "# everything up front\n",
    "\n",
    "# The following method (*NOT* a generator) will double all values and store it\n",
    "# in `double_arr`. For large size of iterables, that might get huge!\n",
    "def double_numbers(iterable):\n",
    "    double_arr = []\n",
    "    for i in iterable:\n",
    "        double_arr.append(i * 2)\n",
    "    return double_arr\n",
    "\n",
    "# Running the following would mean we'll double all values first and return all\n",
    "# of them back to be checked by our condition\n",
    "for value in double_numbers(list(range(1000000))):  # `test_non_generator`\n",
    "    print(value, end=' ') \n",
    "    if value > 5:\n",
    "        break\n",
    "print()"
   ]
  },
  {
   "cell_type": "code",
   "execution_count": 2,
   "metadata": {},
   "outputs": [
    {
     "name": "stdout",
     "output_type": "stream",
     "text": [
      "0 2 4 6 \n"
     ]
    }
   ],
   "source": [
    "# We could instead use a generator to \"generate\" the doubled value as the item\n",
    "# is being requested\n",
    "def double_numbers_generator(iterable):\n",
    "    for i in iterable:\n",
    "        yield i + i\n",
    "        \n",
    "# Running the same code as before, but with a generator, now allows us to iterate\n",
    "# over the values and doubling them one by one as they are being consumed by\n",
    "# our logic. Hence as soon as we see a value > 5, we break out of the\n",
    "# loop and don't need to double most of the values sent in (MUCH FASTER!)\n",
    "for value in double_numbers_generator(range(1000000)):  # `test_generator`\n",
    "    print(value, end=' ')\n",
    "    if value > 5:\n",
    "        break\n",
    "print()"
   ]
  },
  {
   "cell_type": "code",
   "execution_count": 3,
   "metadata": {},
   "outputs": [
    {
     "name": "stdout",
     "output_type": "stream",
     "text": [
      "0123456789"
     ]
    }
   ],
   "source": [
    "# xrange uses the generator method while range uses non-generator in Python2\n",
    "# Pyton3, range is xrange\n",
    "for i in range(10): print(i, end = '')\n",
    "# for i in xrange(10): print(i, end = '')\n"
   ]
  },
  {
   "cell_type": "code",
   "execution_count": 4,
   "metadata": {},
   "outputs": [
    {
     "name": "stdout",
     "output_type": "stream",
     "text": [
      "[-1, -2, -3, -4, -5]\n",
      "<generator object <genexpr> at 0x109c23f48>\n",
      "1 2 3 4 5 \n"
     ]
    }
   ],
   "source": [
    "# Just as you can create a list comprehension, you can create generator\n",
    "# comprehensions as well.\n",
    "values = [-x for x in [1, 2, 3, 4, 5]]\n",
    "print(values)\n",
    "values = (-x for x in [1, 2, 3, 4, 5])\n",
    "print(values) # <generator object <genexpr> at 0x10be7cc30>\n",
    "\n",
    "values = (-x for x in values)\n",
    "for x in values:\n",
    "    print((x), end=' ')  # prints -1 -2 -3 -4 -5 to console/terminal\n",
    "print()"
   ]
  },
  {
   "cell_type": "code",
   "execution_count": 5,
   "metadata": {},
   "outputs": [
    {
     "data": {
      "text/plain": [
       "[-1, -2, -3, -4, -5]"
      ]
     },
     "execution_count": 5,
     "metadata": {},
     "output_type": "execute_result"
    }
   ],
   "source": [
    "# You can also cast a generator comprehension directly to a list.\n",
    "values = (-x for x in [1, 2, 3, 4, 5])\n",
    "gen_to_list = list(values)\n",
    "gen_to_list  # => [-1, -2, -3, -4, -5]"
   ]
  },
  {
   "cell_type": "code",
   "execution_count": null,
   "metadata": {},
   "outputs": [],
   "source": []
  }
 ],
 "metadata": {
  "kernelspec": {
   "display_name": "Python 3",
   "language": "python",
   "name": "python3"
  },
  "language_info": {
   "codemirror_mode": {
    "name": "ipython",
    "version": 3
   },
   "file_extension": ".py",
   "mimetype": "text/x-python",
   "name": "python",
   "nbconvert_exporter": "python",
   "pygments_lexer": "ipython3",
   "version": "3.7.0"
  }
 },
 "nbformat": 4,
 "nbformat_minor": 2
}
