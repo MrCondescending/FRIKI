{
 "cells": [
  {
   "cell_type": "markdown",
   "metadata": {},
   "source": [
    "# 2. Variables and Collections"
   ]
  },
  {
   "cell_type": "code",
   "execution_count": 1,
   "metadata": {},
   "outputs": [
    {
     "data": {
      "text/plain": [
       "5"
      ]
     },
     "execution_count": 1,
     "metadata": {},
     "output_type": "execute_result"
    }
   ],
   "source": [
    "# No need to declare variable types\n",
    "some_var = 5  # Convention is to use lower_case_with_underscores\n",
    "some_var"
   ]
  },
  {
   "cell_type": "code",
   "execution_count": 2,
   "metadata": {},
   "outputs": [
    {
     "name": "stdout",
     "output_type": "stream",
     "text": [
      "Enter some data: 1\n"
     ]
    },
    {
     "data": {
      "text/plain": [
       "(str, '11', 2)"
      ]
     },
     "execution_count": 2,
     "metadata": {},
     "output_type": "execute_result"
    }
   ],
   "source": [
    "# You can use 'input' function to get a value from user\n",
    "input_var = input(\"Enter some data: \")  # Evaluates the data as python code\n",
    "# Don't forget the data type of input is string\n",
    "type(input_var), input_var * 2, int(input_var) * 2"
   ]
  },
  {
   "cell_type": "code",
   "execution_count": 3,
   "metadata": {},
   "outputs": [
    {
     "name": "stdout",
     "output_type": "stream",
     "text": [
      "ERROR raised\n"
     ]
    }
   ],
   "source": [
    "# Accessing a previously unassigned variable is an exception.\n",
    "# See Control Flow to learn more about exception handling.\n",
    "try:\n",
    "    some_other_var  # Raises a name error\n",
    "except Exception:\n",
    "    print(\"ERROR raised\")"
   ]
  },
  {
   "cell_type": "code",
   "execution_count": 4,
   "metadata": {},
   "outputs": [
    {
     "data": {
      "text/plain": [
       "'yahoo!'"
      ]
     },
     "execution_count": 4,
     "metadata": {},
     "output_type": "execute_result"
    }
   ],
   "source": [
    "# if can be used as an expression\n",
    "# Equivalent of C/Java's '?:' ternary operator\n",
    "# The value types can be different (thanks for the dynamic nature of Python)\n",
    "\"yahoo!\" if 3 > 2 else 2  "
   ]
  },
  {
   "cell_type": "markdown",
   "metadata": {},
   "source": [
    "## Lists"
   ]
  },
  {
   "cell_type": "code",
   "execution_count": 5,
   "metadata": {},
   "outputs": [
    {
     "data": {
      "text/plain": [
       "([], [4, 5, 6])"
      ]
     },
     "execution_count": 5,
     "metadata": {},
     "output_type": "execute_result"
    }
   ],
   "source": [
    "# Lists store sequences\n",
    "li = []\n",
    "# You can start with a prefilled list\n",
    "other_li = [4, 5, 6]\n",
    "li, other_li"
   ]
  },
  {
   "cell_type": "code",
   "execution_count": 6,
   "metadata": {},
   "outputs": [
    {
     "name": "stdout",
     "output_type": "stream",
     "text": [
      "[1]\n",
      "[1, 2]\n",
      "[1, 2, 4]\n",
      "[1, 2, 4, 3]\n",
      "[1, 2, 4]\n",
      "[1, 2, 4, 3]\n"
     ]
    }
   ],
   "source": [
    "# Add stuff to the end of a list with append\n",
    "li = []\n",
    "li.append(1); print(li)\n",
    "li.append(2); print(li)\n",
    "li.append(4); print(li)\n",
    "li.append(3); print(li)\n",
    "# Remove from the end with pop\n",
    "li.pop(); print(li)\n",
    "# Let's put it back, append in this case is push()\n",
    "li.append(3); print(li)"
   ]
  },
  {
   "cell_type": "code",
   "execution_count": 7,
   "metadata": {},
   "outputs": [
    {
     "data": {
      "text/plain": [
       "1"
      ]
     },
     "execution_count": 7,
     "metadata": {},
     "output_type": "execute_result"
    }
   ],
   "source": [
    "li = [1,2,3,4]\n",
    "# Access a list like you would any array\n",
    "li[0]"
   ]
  },
  {
   "cell_type": "code",
   "execution_count": 8,
   "metadata": {},
   "outputs": [
    {
     "data": {
      "text/plain": [
       "(42, 2, 4, 3, 2)"
      ]
     },
     "execution_count": 8,
     "metadata": {},
     "output_type": "execute_result"
    }
   ],
   "source": [
    "li = [1,2,3,4]\n",
    "# Assign new values to indexes that have already been initialized with =\n",
    "li[0] = 42\n",
    "li[0], li[1], li[-1], li[-2], li[-3] # -1 means the last element, -2 means the before the last "
   ]
  },
  {
   "cell_type": "code",
   "execution_count": 9,
   "metadata": {},
   "outputs": [
    {
     "name": "stdout",
     "output_type": "stream",
     "text": [
      "Index Error\n"
     ]
    }
   ],
   "source": [
    "li = [1,2,3,4]\n",
    "# Looking out of bounds is an IndexError\n",
    "try:\n",
    "    li[4]  # Raises an IndexError\n",
    "except IndexError:\n",
    "    print(\"Index Error\")"
   ]
  },
  {
   "cell_type": "code",
   "execution_count": 10,
   "metadata": {},
   "outputs": [
    {
     "name": "stdout",
     "output_type": "stream",
     "text": [
      "[2, 3]\n",
      "[3, 4]\n",
      "[1, 2, 3]\n",
      "[1, 3]\n",
      "[4, 3, 2, 1]\n"
     ]
    }
   ],
   "source": [
    "# slices\n",
    "li = [1,2,3,4]\n",
    "# You can look at ranges with slice syntax.\n",
    "# (It's a closed/open range for you mathy types.)\n",
    "print(li[1:3]) # => [2,3] index 1 included, index 3 excluded\n",
    "# Omit the beginning\n",
    "print(li[2:])  # => [3, 4]\n",
    "# Omit the end \n",
    "print(li[:len(li)-1]),  # => [1, 2, 3]\n",
    "# Select every second entry\n",
    "print(li[::2])  # =>[1, 3]\n",
    "# Reverse a copy of the list\n",
    "print(li[::-1])  # => [4, 3, 2, 1]"
   ]
  },
  {
   "cell_type": "code",
   "execution_count": 11,
   "metadata": {},
   "outputs": [
    {
     "data": {
      "text/plain": [
       "[1, 4]"
      ]
     },
     "execution_count": 11,
     "metadata": {},
     "output_type": "execute_result"
    }
   ],
   "source": [
    "# Use any combination of these to make advanced slices\n",
    "# li[start:end:step]\n",
    "li = [1,2,3,4,5,6]\n",
    "li[0:5:3] # starts 0 index and ends at 4, skip every 2"
   ]
  },
  {
   "cell_type": "code",
   "execution_count": 12,
   "metadata": {},
   "outputs": [
    {
     "data": {
      "text/plain": [
       "[1, 2, 4]"
      ]
     },
     "execution_count": 12,
     "metadata": {},
     "output_type": "execute_result"
    }
   ],
   "source": [
    "# Remove arbitrary elements from a list with \"del\"\n",
    "li = [1,2,3,4]\n",
    "del li[2]  # li is now [1, 2, 4]\n",
    "li"
   ]
  },
  {
   "cell_type": "code",
   "execution_count": 13,
   "metadata": {},
   "outputs": [
    {
     "data": {
      "text/plain": [
       "([1, 2, 3, 4, 5, 6], [1, 2, 3], [4, 5, 6])"
      ]
     },
     "execution_count": 13,
     "metadata": {},
     "output_type": "execute_result"
    }
   ],
   "source": [
    "# You can add lists\n",
    "li = [1,2,3]; other_li = [4,5,6]\n",
    "(li + other_li, li, other_li)  # => [1, 2, 3, 4, 5, 6]\n",
    "# Note: values for li and for other_li are not modified."
   ]
  },
  {
   "cell_type": "code",
   "execution_count": 14,
   "metadata": {},
   "outputs": [
    {
     "data": {
      "text/plain": [
       "([1, 2, 3], [4, 5, 6])"
      ]
     },
     "execution_count": 14,
     "metadata": {},
     "output_type": "execute_result"
    }
   ],
   "source": [
    "# Note: values for li and for other_li are not modified.\n",
    "li = [1,2,3]; other_li = [4,5,6]\n",
    "del (li + other_li)[0]  # => [2, 3, 4, 5, 6]\n",
    "(li, other_li)"
   ]
  },
  {
   "cell_type": "code",
   "execution_count": 15,
   "metadata": {},
   "outputs": [
    {
     "data": {
      "text/plain": [
       "([1, 2, 3, 4, 5, 6], [4, 5, 6])"
      ]
     },
     "execution_count": 15,
     "metadata": {},
     "output_type": "execute_result"
    }
   ],
   "source": [
    "# Concatenate lists with \"extend()\"\n",
    "# li is modified\n",
    "li = [1,2,3]; other_li = [4,5,6]\n",
    "li.extend(other_li)  # Now li is [1, 2, 3, 4, 5, 6]\n",
    "(li, other_li)"
   ]
  },
  {
   "cell_type": "code",
   "execution_count": 16,
   "metadata": {},
   "outputs": [
    {
     "data": {
      "text/plain": [
       "([1, 3, 4], [1, 3, 4])"
      ]
     },
     "execution_count": 16,
     "metadata": {},
     "output_type": "execute_result"
    }
   ],
   "source": [
    "li2 = li = [1,2,3,4]\n",
    "li.remove(2)  \n",
    "# li2 and li refers to the same object\n",
    "li, li2"
   ]
  },
  {
   "cell_type": "code",
   "execution_count": 17,
   "metadata": {},
   "outputs": [
    {
     "data": {
      "text/plain": [
       "([2, 3, 4], [2, 3, 4])"
      ]
     },
     "execution_count": 17,
     "metadata": {},
     "output_type": "execute_result"
    }
   ],
   "source": [
    "li2 = li = [1,2,3,4]\n",
    "# li2 and li refers to the same object\n",
    "# I think this is a Python's design mistake, as I believe li should not be modified\n",
    "del li[0]\n",
    "li, li2"
   ]
  },
  {
   "cell_type": "code",
   "execution_count": 18,
   "metadata": {},
   "outputs": [
    {
     "name": "stdout",
     "output_type": "stream",
     "text": [
      "[1, 3, 4]\n",
      "[1, 2, 3, 4]\n"
     ]
    }
   ],
   "source": [
    "li = [1,2,3,4]\n",
    "del li[1]; print(li)\n",
    "# Insert an element at a specific index\n",
    "li.insert(1, 2); print(li)"
   ]
  },
  {
   "cell_type": "code",
   "execution_count": 19,
   "metadata": {},
   "outputs": [
    {
     "name": "stdout",
     "output_type": "stream",
     "text": [
      "1\n",
      "0\n",
      "Index error\n"
     ]
    }
   ],
   "source": [
    "# index returns the index of argument\n",
    "li = [1,2,3,4]\n",
    "print(li.index(2)); print(li.index(1))\n",
    "# when there is no value found, Python raises an error\n",
    "try:\n",
    "    li.index(100)\n",
    "except:\n",
    "    print(\"Index error\")"
   ]
  },
  {
   "cell_type": "code",
   "execution_count": 20,
   "metadata": {},
   "outputs": [
    {
     "data": {
      "text/plain": [
       "True"
      ]
     },
     "execution_count": 20,
     "metadata": {},
     "output_type": "execute_result"
    }
   ],
   "source": [
    "# Check for existence in a list with \"in\"\n",
    "1 in li  # => True"
   ]
  },
  {
   "cell_type": "code",
   "execution_count": 21,
   "metadata": {},
   "outputs": [
    {
     "data": {
      "text/plain": [
       "(4, 4)"
      ]
     },
     "execution_count": 21,
     "metadata": {},
     "output_type": "execute_result"
    }
   ],
   "source": [
    "# Examine the length with \"len()\", this is duck typing example\n",
    "# len function blindingly invokes the object's (li's) __len__ method\n",
    "len(li), li.__len__()"
   ]
  },
  {
   "cell_type": "markdown",
   "metadata": {},
   "source": [
    "## Tuples"
   ]
  },
  {
   "cell_type": "code",
   "execution_count": 22,
   "metadata": {},
   "outputs": [
    {
     "data": {
      "text/plain": [
       "1"
      ]
     },
     "execution_count": 22,
     "metadata": {},
     "output_type": "execute_result"
    }
   ],
   "source": [
    "# Tuples are like lists but are immutable.\n",
    "tup = (1, 2, 3)\n",
    "tup[0]  # => 1"
   ]
  },
  {
   "cell_type": "code",
   "execution_count": 23,
   "metadata": {},
   "outputs": [
    {
     "name": "stdout",
     "output_type": "stream",
     "text": [
      "Can't delete a component\n"
     ]
    }
   ],
   "source": [
    "# Tuples are like lists but are immutable.\n",
    "tup = (1, 2, 3)\n",
    "tup[0]  # => 1\n",
    "try: \n",
    "    del tup[0]\n",
    "except TypeError:\n",
    "    print(\"Can't delete a component\")"
   ]
  },
  {
   "cell_type": "code",
   "execution_count": 24,
   "metadata": {},
   "outputs": [
    {
     "data": {
      "text/plain": [
       "(3, (1, 2, 3, 4, 5, 6), (1, 2), True)"
      ]
     },
     "execution_count": 24,
     "metadata": {},
     "output_type": "execute_result"
    }
   ],
   "source": [
    "# You can do all those list thingies on tuples too\n",
    "# SE rule - general\n",
    "len(tup), tup + (4, 5, 6), tup[:2], 2 in tup"
   ]
  },
  {
   "cell_type": "code",
   "execution_count": 25,
   "metadata": {},
   "outputs": [
    {
     "data": {
      "text/plain": [
       "(1, 2, 3, 4, 5, 6)"
      ]
     },
     "execution_count": 25,
     "metadata": {},
     "output_type": "execute_result"
    }
   ],
   "source": [
    "# You can unpack tuples (or lists) into variables\n",
    "a, b, c = (1, 2, 3)  # a is now 1, b is now 2 and c is now 3\n",
    "d, e, f = 4, 5, 6  # you can leave out the parentheses\n",
    "a,b,c,d,e,f"
   ]
  },
  {
   "cell_type": "code",
   "execution_count": 26,
   "metadata": {},
   "outputs": [
    {
     "data": {
      "text/plain": [
       "(4, 5, 6)"
      ]
     },
     "execution_count": 26,
     "metadata": {},
     "output_type": "execute_result"
    }
   ],
   "source": [
    "# Tuples are created by default if you leave out the parentheses\n",
    "g = 4, 5, 6  # => (4, 5, 6)\n",
    "g"
   ]
  },
  {
   "cell_type": "code",
   "execution_count": 27,
   "metadata": {},
   "outputs": [
    {
     "data": {
      "text/plain": [
       "(5, 4)"
      ]
     },
     "execution_count": 27,
     "metadata": {},
     "output_type": "execute_result"
    }
   ],
   "source": [
    "d = 4; e = 5\n",
    "# Now look how easy it is to swap two values\n",
    "e, d = d, e  # d is now 5 and e is now 4\n",
    "d, e"
   ]
  },
  {
   "cell_type": "markdown",
   "metadata": {},
   "source": [
    "# Dictionaries"
   ]
  },
  {
   "cell_type": "code",
   "execution_count": 28,
   "metadata": {},
   "outputs": [
    {
     "data": {
      "text/plain": [
       "({}, {'one': 1, 'two': 2, 'three': 3})"
      ]
     },
     "execution_count": 28,
     "metadata": {},
     "output_type": "execute_result"
    }
   ],
   "source": [
    "# Dictionaries store mappings\n",
    "empty_dict = {}\n",
    "# Here is a prefilled dictionary\n",
    "filled_dict = {\"one\": 1, \"two\": 2, \"three\": 3}\n",
    "empty_dict, filled_dict"
   ]
  },
  {
   "cell_type": "code",
   "execution_count": 29,
   "metadata": {},
   "outputs": [
    {
     "data": {
      "text/plain": [
       "(1, 2, 3)"
      ]
     },
     "execution_count": 29,
     "metadata": {},
     "output_type": "execute_result"
    }
   ],
   "source": [
    "filled_dict = {\"one\": 1, \"two\": 2, \"three\": 3}\n",
    "# Look up values with []\n",
    "filled_dict[\"one\"], filled_dict[\"two\"], filled_dict[\"three\"]  # => 1"
   ]
  },
  {
   "cell_type": "code",
   "execution_count": 30,
   "metadata": {},
   "outputs": [
    {
     "data": {
      "text/plain": [
       "(dict_keys(['one', 'two', 'three']),\n",
       " dict_values([1, 2, 3]),\n",
       " dict_items([('one', 1), ('two', 2), ('three', 3)]))"
      ]
     },
     "execution_count": 30,
     "metadata": {},
     "output_type": "execute_result"
    }
   ],
   "source": [
    "# keys, values, items in a dictionary\n",
    "filled_dict = {\"one\": 1, \"two\": 2, \"three\": 3}\n",
    "(filled_dict.keys(), filled_dict.values(), filled_dict.items())"
   ]
  },
  {
   "cell_type": "code",
   "execution_count": 31,
   "metadata": {},
   "outputs": [
    {
     "data": {
      "text/plain": [
       "(dict_keys, dict_values, dict_items)"
      ]
     },
     "execution_count": 31,
     "metadata": {},
     "output_type": "execute_result"
    }
   ],
   "source": [
    "# keys, values, items in a dictionary\n",
    "filled_dict = {\"one\": 1, \"two\": 2, \"three\": 3}\n",
    "(type(filled_dict.keys()), type(filled_dict.values()), type(filled_dict.items()))"
   ]
  },
  {
   "cell_type": "code",
   "execution_count": 32,
   "metadata": {},
   "outputs": [
    {
     "data": {
      "text/plain": [
       "(True, False)"
      ]
     },
     "execution_count": 32,
     "metadata": {},
     "output_type": "execute_result"
    }
   ],
   "source": [
    "# Check for existence of keys in a dictionary with \"in\"\n",
    "filled_dict = {\"one\": 1, \"two\": 2, \"three\": 3}\n",
    "\"one\" in filled_dict, 1 in filled_dict"
   ]
  },
  {
   "cell_type": "code",
   "execution_count": 33,
   "metadata": {},
   "outputs": [
    {
     "name": "stdout",
     "output_type": "stream",
     "text": [
      "Key error\n"
     ]
    }
   ],
   "source": [
    "filled_dict = {\"one\": 1, \"two\": 2, \"three\": 3}\n",
    "# Looking up a non-existing key is a KeyError\n",
    "try: \n",
    "    filled_dict[\"four\"]  # KeyError\n",
    "except KeyError:\n",
    "    print(\"Key error\")"
   ]
  },
  {
   "cell_type": "code",
   "execution_count": 34,
   "metadata": {},
   "outputs": [
    {
     "data": {
      "text/plain": [
       "(1, None)"
      ]
     },
     "execution_count": 34,
     "metadata": {},
     "output_type": "execute_result"
    }
   ],
   "source": [
    "filled_dict = {\"one\": 1, \"two\": 2, \"three\": 3}\n",
    "# Use \"get()\" method to avoid the KeyError\n",
    "filled_dict.get(\"one\"), filled_dict.get(\"four\")"
   ]
  },
  {
   "cell_type": "code",
   "execution_count": 35,
   "metadata": {},
   "outputs": [
    {
     "data": {
      "text/plain": [
       "(1, 4, None)"
      ]
     },
     "execution_count": 35,
     "metadata": {},
     "output_type": "execute_result"
    }
   ],
   "source": [
    "filled_dict = {\"one\": 1, \"two\": 2, \"three\": 3}\n",
    "# The get method supports a default argument when the value is missing\n",
    "filled_dict.get(\"one\", 4), filled_dict.get(\"four\", 4), filled_dict.get(\"four\")"
   ]
  },
  {
   "cell_type": "code",
   "execution_count": 36,
   "metadata": {},
   "outputs": [
    {
     "data": {
      "text/plain": [
       "dict_items([('one', 1), ('two', 2), ('three', 3), ('four', 4)])"
      ]
     },
     "execution_count": 36,
     "metadata": {},
     "output_type": "execute_result"
    }
   ],
   "source": [
    "filled_dict = {\"one\": 1, \"two\": 2, \"three\": 3}\n",
    "filled_dict[\"four\"] = 4 \n",
    "filled_dict.items()"
   ]
  },
  {
   "cell_type": "code",
   "execution_count": 37,
   "metadata": {},
   "outputs": [
    {
     "name": "stdout",
     "output_type": "stream",
     "text": [
      "dict_items([('one', 1), ('two', 2), ('three', 3), ('four', 4), ('five', 5)])\n",
      "5\n"
     ]
    }
   ],
   "source": [
    "filled_dict = {\"one\": 1, \"two\": 2, \"three\": 3, \"four\":4}\n",
    "# \"setdefault()\" inserts into a dictionary only if the given key isn't present\n",
    "filled_dict.setdefault(\"five\", 5)  # filled_dict[\"five\"] is set to 5\n",
    "print(filled_dict.items())\n",
    "filled_dict.setdefault(\"five\", 6)  # filled_dict[\"five\"] is still 5\n",
    "print(filled_dict[\"five\"])"
   ]
  },
  {
   "cell_type": "markdown",
   "metadata": {},
   "source": [
    "## Sets"
   ]
  },
  {
   "cell_type": "code",
   "execution_count": 38,
   "metadata": {},
   "outputs": [
    {
     "data": {
      "text/plain": [
       "(set(), {1, 2, 3, 4}, {1, 2, 3, 4, 5})"
      ]
     },
     "execution_count": 38,
     "metadata": {},
     "output_type": "execute_result"
    }
   ],
   "source": [
    "# Sets store ... well sets (which are like lists but can contain no duplicates)\n",
    "empty_set = set()\n",
    "# Initialize a \"set()\" with a bunch of values\n",
    "some_set = set([1, 2, 2, 3, 4])  # some_set is now set([1, 2, 3, 4])\n",
    "empty_set, some_set, {1,2,3,4,5,5,5,5}"
   ]
  },
  {
   "cell_type": "code",
   "execution_count": 39,
   "metadata": {},
   "outputs": [
    {
     "data": {
      "text/plain": [
       "{1, 2, 3, 4}"
      ]
     },
     "execution_count": 39,
     "metadata": {},
     "output_type": "execute_result"
    }
   ],
   "source": [
    "# order is not guaranteed, even though it may sometimes look sorted\n",
    "another_set = set([4, 3, 2, 2, 1])  \n",
    "another_set"
   ]
  },
  {
   "cell_type": "code",
   "execution_count": 40,
   "metadata": {},
   "outputs": [
    {
     "data": {
      "text/plain": [
       "{1, 2, 3, 4, 5}"
      ]
     },
     "execution_count": 40,
     "metadata": {},
     "output_type": "execute_result"
    }
   ],
   "source": [
    "filled_set = {1, 2, 2, 3, 4}  # => {1, 2, 3, 4}\n",
    "\n",
    "# Add more items to a set\n",
    "filled_set.add(5)  \n",
    "filled_set"
   ]
  },
  {
   "cell_type": "code",
   "execution_count": 41,
   "metadata": {},
   "outputs": [
    {
     "data": {
      "text/plain": [
       "({3}, {1, 2, 3, 4, 5}, {1, 2}, {1, 4, 5})"
      ]
     },
     "execution_count": 41,
     "metadata": {},
     "output_type": "execute_result"
    }
   ],
   "source": [
    "# operators\n",
    "# & - and, | or, - subtract, ^ symmetric difference (only in one side)\n",
    "{1,2,3} & {3,4,5}, {1,2,3} | {3,4,5}, {1,2,3} - {3,4,5}, {1, 2, 3, 4} ^ {2, 3, 5} "
   ]
  },
  {
   "cell_type": "code",
   "execution_count": 42,
   "metadata": {},
   "outputs": [
    {
     "data": {
      "text/plain": [
       "(False, True)"
      ]
     },
     "execution_count": 42,
     "metadata": {},
     "output_type": "execute_result"
    }
   ],
   "source": [
    "# containment, subset\n",
    "# Check if set on the left is a superset of set on the right\n",
    "{1, 2} >= {1, 2, 3}, {1, 2} <= {1, 2, 3}  # => True"
   ]
  },
  {
   "cell_type": "code",
   "execution_count": 43,
   "metadata": {},
   "outputs": [
    {
     "data": {
      "text/plain": [
       "(True, False)"
      ]
     },
     "execution_count": 43,
     "metadata": {},
     "output_type": "execute_result"
    }
   ],
   "source": [
    "# Equality, but careful\n",
    "{1,2} == {1,2}, {1,2} is {1,2}"
   ]
  },
  {
   "cell_type": "code",
   "execution_count": 44,
   "metadata": {},
   "outputs": [
    {
     "name": "stdout",
     "output_type": "stream",
     "text": [
      "4583759944\n",
      "4582754568\n",
      "True\n"
     ]
    }
   ],
   "source": [
    "# Sometimes Python is confusing\n",
    "print(id({1,2})); print(id({2,1})); print(id({1,2}) == id({2,1}))"
   ]
  },
  {
   "cell_type": "code",
   "execution_count": 45,
   "metadata": {},
   "outputs": [
    {
     "name": "stdout",
     "output_type": "stream",
     "text": [
      "False\n",
      "True\n",
      "True\n"
     ]
    }
   ],
   "source": [
    "# {2,1,3} gets created, its id is fetched, then it gets garbage collected. {1,2} is then created and the same id is assigned to the new object.\n",
    "print(id(1) == id(2)); print(id({1,2}) == id({1,2})); print(id({1,2}) == id({1,2,3}))"
   ]
  },
  {
   "cell_type": "code",
   "execution_count": 49,
   "metadata": {},
   "outputs": [
    {
     "name": "stdout",
     "output_type": "stream",
     "text": [
      "False\n",
      "False\n",
      "False\n"
     ]
    }
   ],
   "source": [
    "# There are many things to understand in Python\n",
    "a = id({1,2})\n",
    "b = id({1,2})\n",
    "print(id(1) == id(2)); print(a == b); print(a is b)"
   ]
  },
  {
   "cell_type": "code",
   "execution_count": 46,
   "metadata": {},
   "outputs": [
    {
     "data": {
      "text/plain": [
       "(True, False, True)"
      ]
     },
     "execution_count": 46,
     "metadata": {},
     "output_type": "execute_result"
    }
   ],
   "source": [
    "filled_set = {1, 2, 2, 3, 4} \n",
    "2 in filled_set, 10 in filled_set, 10 not in filled_set # => True"
   ]
  },
  {
   "cell_type": "code",
   "execution_count": 47,
   "metadata": {},
   "outputs": [
    {
     "data": {
      "text/plain": [
       "(list, dict, dict, set, tuple, int)"
      ]
     },
     "execution_count": 47,
     "metadata": {},
     "output_type": "execute_result"
    }
   ],
   "source": [
    "# Check data type of variable\n",
    "type([]), type({'a':0}), type({}), type({1}), type(()), type(5)   # => int"
   ]
  }
 ],
 "metadata": {
  "kernelspec": {
   "display_name": "Python 3",
   "language": "python",
   "name": "python3"
  },
  "language_info": {
   "codemirror_mode": {
    "name": "ipython",
    "version": 3
   },
   "file_extension": ".py",
   "mimetype": "text/x-python",
   "name": "python",
   "nbconvert_exporter": "python",
   "pygments_lexer": "ipython3",
   "version": "3.7.0"
  }
 },
 "nbformat": 4,
 "nbformat_minor": 2
}
