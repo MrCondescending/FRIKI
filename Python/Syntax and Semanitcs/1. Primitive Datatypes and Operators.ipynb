{
 "cells": [
  {
   "cell_type": "markdown",
   "metadata": {},
   "source": [
    "# 1. Primitive Datatypes and Operators"
   ]
  },
  {
   "cell_type": "code",
   "execution_count": 2,
   "metadata": {},
   "outputs": [],
   "source": [
    "# In python anything after # is ignored until the end of line"
   ]
  },
  {
   "cell_type": "code",
   "execution_count": null,
   "metadata": {},
   "outputs": [],
   "source": [
    "# You have numbers\n",
    "3  # => 3"
   ]
  },
  {
   "cell_type": "code",
   "execution_count": 1,
   "metadata": {},
   "outputs": [
    {
     "data": {
      "text/plain": [
       "7.0"
      ]
     },
     "execution_count": 1,
     "metadata": {},
     "output_type": "execute_result"
    }
   ],
   "source": [
    "# Math is what you would expect, but in Jupyter you can check only the last value \n",
    "1 + 1  # => 2\n",
    "8 - 1  # => 7\n",
    "10 * 2  # => 20\n",
    "35 / 5  # => 7"
   ]
  },
  {
   "cell_type": "code",
   "execution_count": 1,
   "metadata": {},
   "outputs": [
    {
     "data": {
      "text/plain": [
       "(2, 7, 20, 7.0)"
      ]
     },
     "execution_count": 1,
     "metadata": {},
     "output_type": "execute_result"
    }
   ],
   "source": [
    "# You can use tuple to check all of the values\n",
    "(1 + 1, 8 - 1, 10 * 2, 35 / 5)"
   ]
  },
  {
   "cell_type": "code",
   "execution_count": 1,
   "metadata": {},
   "outputs": [
    {
     "data": {
      "text/plain": [
       "(2, 7, 20, 7.0)"
      ]
     },
     "execution_count": 1,
     "metadata": {},
     "output_type": "execute_result"
    }
   ],
   "source": [
    "# You don't need () as Python understands a tuple when you use a ,\n",
    "1 + 1, 8 - 1, 10 * 2, 35 / 5"
   ]
  },
  {
   "cell_type": "code",
   "execution_count": null,
   "metadata": {},
   "outputs": [],
   "source": [
    "# / differs between Python 2 and Python 3\n",
    "# It is integer division in Python2, but not in Python3\n",
    "5 / 2  # => 2+"
   ]
  },
  {
   "cell_type": "code",
   "execution_count": null,
   "metadata": {},
   "outputs": [],
   "source": [
    "# Result of integer division **truncated down** both for positive and negative.\n",
    "5 // 3, 5.0 // 3.0, -5 // 3, -5.0 // 3.0"
   ]
  },
  {
   "cell_type": "code",
   "execution_count": null,
   "metadata": {},
   "outputs": [],
   "source": [
    "# divmod returns the divident and reminder\n",
    "divmod(11, 4) # => (11 == 4*2 + 3) => (2, 3)"
   ]
  },
  {
   "cell_type": "code",
   "execution_count": null,
   "metadata": {},
   "outputs": [],
   "source": [
    "# divmod is division and modular operation combined\n",
    "11 // 4, 11 % 4"
   ]
  },
  {
   "cell_type": "code",
   "execution_count": null,
   "metadata": {},
   "outputs": [],
   "source": [
    "# Exponentiation (x to the yth power)\n",
    "2 ** 4  # => 16"
   ]
  },
  {
   "cell_type": "code",
   "execution_count": null,
   "metadata": {},
   "outputs": [],
   "source": [
    "# Enforce precedence with parentheses\n",
    "(1 + 3) * 2  # => 8"
   ]
  },
  {
   "cell_type": "code",
   "execution_count": 3,
   "metadata": {},
   "outputs": [
    {
     "data": {
      "text/plain": [
       "('Hello', 'hello')"
      ]
     },
     "execution_count": 3,
     "metadata": {},
     "output_type": "execute_result"
    }
   ],
   "source": [
    "# String uses \"\" or ''\n",
    "\"Hello\", 'hello'"
   ]
  },
  {
   "cell_type": "code",
   "execution_count": 6,
   "metadata": {},
   "outputs": [
    {
     "name": "stdout",
     "output_type": "stream",
     "text": [
      "Hello, \n",
      "world\n",
      "\n"
     ]
    }
   ],
   "source": [
    "# For the string with multiple lines, you can use triple string \"\"\"...\"\"\"\n",
    "x = \"\"\"Hello, \n",
    "world\n",
    "\"\"\"\n",
    "print(x)"
   ]
  },
  {
   "cell_type": "code",
   "execution_count": null,
   "metadata": {},
   "outputs": [],
   "source": [
    "# Strings are created with \" or '\n",
    "\"This is a string.\", 'This is also a string.', 'Hello, \"World\"'"
   ]
  },
  {
   "cell_type": "code",
   "execution_count": 2,
   "metadata": {},
   "outputs": [
    {
     "name": "stdout",
     "output_type": "stream",
     "text": [
      "a\n",
      " b\n",
      "a\\n b\n"
     ]
    },
    {
     "data": {
      "text/plain": [
       "(None, None)"
      ]
     },
     "execution_count": 2,
     "metadata": {},
     "output_type": "execute_result"
    }
   ],
   "source": [
    "# Raw string disables the interpretation of special characters\n",
    "print('a\\n b'), print(r'a\\n b')"
   ]
  },
  {
   "cell_type": "code",
   "execution_count": null,
   "metadata": {},
   "outputs": [],
   "source": [
    "# Strings can be added too!\n",
    "\"Hello \" + \"world!\"  "
   ]
  },
  {
   "cell_type": "code",
   "execution_count": null,
   "metadata": {},
   "outputs": [],
   "source": [
    "# Strings can be added without using '+'\n",
    "\"Hello \" \"world!\"  "
   ]
  },
  {
   "cell_type": "code",
   "execution_count": 3,
   "metadata": {},
   "outputs": [
    {
     "data": {
      "text/plain": [
       "'HelloHelloHello'"
      ]
     },
     "execution_count": 3,
     "metadata": {},
     "output_type": "execute_result"
    }
   ],
   "source": [
    "# ... or multiplied\n",
    "\"Hello\" * 3  # => \"HelloHelloHello\""
   ]
  },
  {
   "cell_type": "code",
   "execution_count": 4,
   "metadata": {},
   "outputs": [
    {
     "data": {
      "text/plain": [
       "'T'"
      ]
     },
     "execution_count": 4,
     "metadata": {},
     "output_type": "execute_result"
    }
   ],
   "source": [
    "# A string can be treated like a list of characters\n",
    "\"This is a string\"[0]"
   ]
  },
  {
   "cell_type": "code",
   "execution_count": null,
   "metadata": {},
   "outputs": [],
   "source": [
    "# You can find the length of a string\n",
    "# 1. OOP way and 2. Duck typing\n",
    "\"This is a string\".__len__(), len(\"This is a string\")"
   ]
  },
  {
   "cell_type": "code",
   "execution_count": null,
   "metadata": {},
   "outputs": [],
   "source": [
    "# OLD WAY - Don't use it, just understand some people use an old way.\n",
    "# String formatting with %\n",
    "# Even though the % string operator will be deprecated on Python 3.1 and removed\n",
    "# later at some time, it may still be good to know how it works.\n",
    "x = 'apple'\n",
    "y = 'lemon'\n",
    "\"The items in the basket are %s and %s\" % (x, y)"
   ]
  },
  {
   "cell_type": "code",
   "execution_count": null,
   "metadata": {},
   "outputs": [],
   "source": [
    "# NEW Way\n",
    "x = 'apple'\n",
    "y = 'lemon'\n",
    "\"The items in the basket are {} and {}\".format(x, y)"
   ]
  },
  {
   "cell_type": "code",
   "execution_count": null,
   "metadata": {},
   "outputs": [],
   "source": [
    "# NEW way and using position\n",
    "x = 'apple'\n",
    "y = 'lemon'\n",
    "\"The items in the basket are {1} and {0}\".format(x, y)"
   ]
  },
  {
   "cell_type": "code",
   "execution_count": 5,
   "metadata": {},
   "outputs": [
    {
     "data": {
      "text/plain": [
       "'The items in the basket are apple and lemon'"
      ]
     },
     "execution_count": 5,
     "metadata": {},
     "output_type": "execute_result"
    }
   ],
   "source": [
    "# NEW way and using name\n",
    "x = 'apple'\n",
    "y = 'lemon'\n",
    "\"The items in the basket are {apple} and {lemon}\".format(apple = x, lemon = y)"
   ]
  },
  {
   "cell_type": "code",
   "execution_count": null,
   "metadata": {},
   "outputs": [],
   "source": [
    "# NEW way and using dictionary\n",
    "# Don't forget the two star (breaking the dictionary) to get the same results as before\n",
    "d = {'x':'apple', 'y':'lemon'}\n",
    "\"The items in the basket are {x} and {y}\".format(**d)"
   ]
  },
  {
   "cell_type": "code",
   "execution_count": null,
   "metadata": {},
   "outputs": [],
   "source": [
    "# Boolean Operators\n",
    "True and False, False or True"
   ]
  },
  {
   "cell_type": "code",
   "execution_count": null,
   "metadata": {},
   "outputs": [],
   "source": [
    "# Note using Bool operators with ints\n",
    "0 and 2, -5 or 0"
   ]
  },
  {
   "cell_type": "code",
   "execution_count": null,
   "metadata": {},
   "outputs": [],
   "source": [
    "# Compare ints with Boolean, 1 is true\n",
    "0 == True, 1 == True, 2 == True, -123 == True, 1234 == True"
   ]
  },
  {
   "cell_type": "code",
   "execution_count": null,
   "metadata": {},
   "outputs": [],
   "source": [
    "# negate with not\n",
    "not True, not False"
   ]
  },
  {
   "cell_type": "code",
   "execution_count": null,
   "metadata": {},
   "outputs": [],
   "source": [
    "# Equality is == and Inequality is !=\n",
    "1 == 1, 2 == 1, 1 != 1, 2 != 1"
   ]
  },
  {
   "cell_type": "code",
   "execution_count": null,
   "metadata": {},
   "outputs": [],
   "source": [
    "# Comparisons\n",
    "1 < 10, 1 > 10, 2 <= 2, 2 >= 2"
   ]
  },
  {
   "cell_type": "code",
   "execution_count": null,
   "metadata": {},
   "outputs": [],
   "source": [
    "# Comparisons can be chained\n",
    "1 < 2 < 3, 2 < 3 < 2"
   ]
  },
  {
   "cell_type": "code",
   "execution_count": null,
   "metadata": {},
   "outputs": [],
   "source": [
    "# None is an object and can be interpreted as False even though None != False\n",
    "None, not None, None == False"
   ]
  },
  {
   "cell_type": "code",
   "execution_count": null,
   "metadata": {},
   "outputs": [],
   "source": [
    "# id() returns the reference of an object\n",
    "# Python is a pure OOP language, so everything is an object. Everything has a reference number\n",
    "id(1), id(2), id(None), id(tuple)"
   ]
  },
  {
   "cell_type": "code",
   "execution_count": null,
   "metadata": {},
   "outputs": [],
   "source": [
    "# Don't use the equality \"==\" symbol to compare objects including None\n",
    "# When you want to use \"==\", compare the reference of an object\n",
    "# Or use \"is\" instead\n",
    "\"etc\" is None, id(\"etc\") == id(None), None is None, id(None) == id(None)"
   ]
  },
  {
   "cell_type": "code",
   "execution_count": null,
   "metadata": {},
   "outputs": [],
   "source": [
    "# Any object can be used in a Boolean context.\n",
    "# The following values are considered falsey:\n",
    "#    - None\n",
    "#    - zero of any numeric type (e.g., 0, 0L, 0.0, 0j)\n",
    "#    - empty sequences (e.g., '', (), [])\n",
    "#    - empty containers (e.g., {}, set())\n",
    "#    - instances of user-defined classes meeting certain conditions\n",
    "#      see: https://docs.python.org/2/reference/datamodel.html#object.__nonzero__\n",
    "#\n",
    "# All other values are truthy (using the bool() function on them returns True).\n",
    "bool(0), bool(\"\"), bool(0), bool(None), bool([]), bool({}), bool(()), bool(set()), bool(None), bool([])"
   ]
  }
 ],
 "metadata": {
  "kernelspec": {
   "display_name": "Python 3",
   "language": "python",
   "name": "python3"
  },
  "language_info": {
   "codemirror_mode": {
    "name": "ipython",
    "version": 3
   },
   "file_extension": ".py",
   "mimetype": "text/x-python",
   "name": "python",
   "nbconvert_exporter": "python",
   "pygments_lexer": "ipython3",
   "version": "3.7.4"
  }
 },
 "nbformat": 4,
 "nbformat_minor": 2
}
